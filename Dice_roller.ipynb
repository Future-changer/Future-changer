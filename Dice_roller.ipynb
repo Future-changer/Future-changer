{
  "nbformat": 4,
  "nbformat_minor": 0,
  "metadata": {
    "colab": {
      "name": "Dice_roller.ipynb",
      "provenance": [],
      "authorship_tag": "ABX9TyNLsclynefncVseKmGa92WZ",
      "include_colab_link": true
    },
    "kernelspec": {
      "name": "python3",
      "display_name": "Python 3"
    },
    "language_info": {
      "name": "python"
    }
  },
  "cells": [
    {
      "cell_type": "markdown",
      "metadata": {
        "id": "view-in-github",
        "colab_type": "text"
      },
      "source": [
        "<a href=\"https://colab.research.google.com/github/Future-changer/Future-changer/blob/main/Dice_roller.ipynb\" target=\"_parent\"><img src=\"https://colab.research.google.com/assets/colab-badge.svg\" alt=\"Open In Colab\"/></a>"
      ]
    },
    {
      "cell_type": "code",
      "execution_count": null,
      "metadata": {
        "colab": {
          "base_uri": "https://localhost:8080/"
        },
        "id": "BDoIDaOywPRc",
        "outputId": "9b8b16ea-7e20-44e3-c7e9-d5ffae3ffcd8"
      },
      "outputs": [
        {
          "name": "stdout",
          "output_type": "stream",
          "text": [
            "rolling..........\n",
            "values are\n",
            "4\n",
            "5\n",
            "Do you want to roll the dices again?No\n"
          ]
        }
      ],
      "source": [
        "#importing module for number generation\n",
        "import random\n",
        "min_val=1\n",
        "max_val=6\n",
        "roll_again=\"yes\"\n",
        "while roll_again==\"yes\" or roll_again==\"y\":\n",
        "  print(\"rolling..........\")\n",
        "  print(\"values are\")\n",
        "\n",
        "  #printing first and second random integer\n",
        "  print(random.randint(min_val,max_val))\n",
        "  print(random.randint(min_val,max_val))\n",
        "  roll_again=input(\"Do you want to roll the dices again?\")"
      ]
    }
  ]
}